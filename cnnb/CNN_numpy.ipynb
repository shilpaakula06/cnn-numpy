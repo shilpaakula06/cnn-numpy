{
 "cells": [
  {
   "cell_type": "markdown",
   "metadata": {},
   "source": [
    "### Welcome to first hands-On on CNN.   \n",
    "In this hands-on you will be implementing padding, convolution and pooling operation using numpy.\n",
    "- Follow the comments provided for each cell to code accordingly.\n",
    "- To run the code in the cell press **shift+enter**. Make sure you do this for each cell"
   ]
  },
  {
   "cell_type": "markdown",
   "metadata": {},
   "source": [
    "- Run the bellow cell to import necessary packages"
   ]
  },
  {
   "cell_type": "code",
   "execution_count": 1,
   "metadata": {
    "colab": {},
    "colab_type": "code",
    "id": "q7Sg5Z5bBx8-"
   },
   "outputs": [],
   "source": [
    "import numpy as np\n",
    "import matplotlib.pyplot as plt\n",
    "import matplotlib.image as mpimg"
   ]
  },
  {
   "cell_type": "markdown",
   "metadata": {},
   "source": [
    "- Read the image file '**home.png**'(in current directory) using **mpimg.imread(\"file_path\")** function provided by matplotlib.image module. This function reads the image and returns the pixel intensities in numpy format. Assign this result to variable **img**.\n",
    "- The dimension of **img** will now be $n_H$ x $n_w$ x $n_c$\n",
    "- reshape **img** to dimension $m$ x $n_H$ x $n_w$ x $n_c$ and assign it to variable **data**. The dimension **m** will be **one** since we are dealing with one image data. (use numpy's reshape())\n",
    "\n",
    "Expected output:   \n",
    "**class 'numpy.ndarray'**  \n",
    "**Image dimension  (252, 362, 3)**  \n",
    "**input data dimension  (1, 252, 362, 3)**     "
   ]
  },
  {
   "cell_type": "code",
   "execution_count": 5,
   "metadata": {
    "colab": {
     "base_uri": "https://localhost:8080/",
     "height": 589
    },
    "colab_type": "code",
    "id": "sUZEedT6PSDt",
    "outputId": "1ca322d0-9d34-4c57-93bf-6091a4742231"
   },
   "outputs": [
    {
     "name": "stdout",
     "output_type": "stream",
     "text": [
      "<class 'numpy.ndarray'>\n",
      "Image dimension  (252, 362, 3)\n"
     ]
    }
   ],
   "source": [
    "###Start code here\n",
    "img = \n",
    "data = \n",
    "###End code\n",
    "\n",
    "print(type(img))\n",
    "print(\"Image dimension \",img.shape)\n",
    "print(\"Input data dimension \", data.shape)"
   ]
  },
  {
   "cell_type": "markdown",
   "metadata": {},
   "source": [
    "- Run the below cell to view the image from the data"
   ]
  },
  {
   "cell_type": "code",
   "execution_count": null,
   "metadata": {
    "colab": {
     "base_uri": "https://localhost:8080/",
     "height": 351
    },
    "colab_type": "code",
    "id": "jubQ-g0GP54T",
    "outputId": "db387296-bcd9-4a26-f027-c50c07adec4e"
   },
   "outputs": [],
   "source": [
    "plt.imshow(data[0,:,:,:])\n",
    "plt.grid(False)\n",
    "plt.axis(\"off\")"
   ]
  },
  {
   "cell_type": "markdown",
   "metadata": {},
   "source": [
    "### zero padding\n",
    "- Define method named zero_pad that performs specified number of zero padding on the input data.  \n",
    "parameters: \n",
    "            data: the data on which padding is performed    \n",
    "            pad:  the amount of padding around the data    \n",
    "returns: \n",
    "            data_padded: the nd-array after padding  "
   ]
  },
  {
   "cell_type": "code",
   "execution_count": null,
   "metadata": {
    "colab": {},
    "colab_type": "code",
    "id": "jJO-ru9OQHeJ"
   },
   "outputs": [],
   "source": [
    "def zero_pad(data, pad):\n",
    "    ###Start code here\n",
    "    data_padded = \n",
    "    return data_padded\n",
    "    ###End code"
   ]
  },
  {
   "cell_type": "markdown",
   "metadata": {},
   "source": [
    "- Run the below cell to add zero zero padding using the method define above.   \n",
    "Expected output:\n",
    "             [[0. 0. 0. 0.]\n",
    "             [0. 0. 0. 0.]\n",
    "             [0. 0. 1. 1.]\n",
    "             [0. 0. 1. 1.]]"
   ]
  },
  {
   "cell_type": "code",
   "execution_count": null,
   "metadata": {
    "colab": {
     "base_uri": "https://localhost:8080/",
     "height": 351
    },
    "colab_type": "code",
    "id": "CzgFMnTnSBOU",
    "outputId": "c8e27388-64d4-4906-d0b1-6e7082be3abb"
   },
   "outputs": [],
   "source": [
    "print(\"dimension before padding: \", data.shape)\n",
    "img_pad = zero_pad(data, 10)\n",
    "print(\"dimension after padding: \", img_pad.shape)\n",
    "print(img_pad[0,8:12,8:12,1])\n",
    "plt.imshow(img_pad[0,:,:,:], cmap = \"gray\")\n",
    "plt.grid(False)\n",
    "\n",
    "output1 = np.mean(img_pad)"
   ]
  },
  {
   "cell_type": "markdown",
   "metadata": {},
   "source": [
    "### Convolution single step  \n",
    "Define the function named conv_single_step() to convolve a slice of input data using the specified filter  \n",
    "parameter:  \n",
    "         - data_slice: the receptive field over which convolution is performed  \n",
    "         - W: the filter used for convolution  \n",
    "         - b: the bias term  \n",
    "returns:\n",
    "         - Z: convolved output over the receptive field"
   ]
  },
  {
   "cell_type": "code",
   "execution_count": null,
   "metadata": {
    "colab": {},
    "colab_type": "code",
    "id": "odlQufOZbxL-"
   },
   "outputs": [],
   "source": [
    "def conv_single_step(data_slice, W, b):\n",
    "    ###Start code\n",
    "    conv = \n",
    "    Z = \n",
    "    ###End code\n",
    "    return Z"
   ]
  },
  {
   "cell_type": "markdown",
   "metadata": {},
   "source": [
    "### Strided Convolution\n",
    "Define method conv_forward to perform strided convolution on the input data.  \n",
    "use conv_single_step() to perform the convolution at each stride.  \n",
    "Parameters:  \n",
    "        - data: input data on which convolution is performed  \n",
    "        - W: the filter used for convolution operation  \n",
    "        - b: the bias term  \n",
    "        - hparams: dictionary defined by {\"stride\": s, \"pad\": p}  \n",
    "returns:  \n",
    "       - Z: the convolved output  \n",
    "\n",
    "refer the code snippet provided in the course.  "
   ]
  },
  {
   "cell_type": "code",
   "execution_count": null,
   "metadata": {
    "colab": {},
    "colab_type": "code",
    "id": "eiLxJ6Ycd0_M"
   },
   "outputs": [],
   "source": [
    "def conv_forward(data, W, b, hparams):\n",
    "    ###Start code here\n",
    "    \n",
    "    \n",
    "    \n",
    "    \n",
    "    \n",
    "    \n",
    "    \n",
    "    \n",
    "    \n",
    "    \n",
    "    \n",
    "    \n",
    "    \n",
    "    \n",
    "    \n",
    "    ###End code\n",
    "    return Z ##(convolved output)"
   ]
  },
  {
   "cell_type": "markdown",
   "metadata": {},
   "source": [
    "- The below cell defines the test data for input as well as filter.  \n",
    "- Run the cell to perfom the convolution operation using the method defined above.   \n",
    "**Expected output: 0.145**\n",
    "               "
   ]
  },
  {
   "cell_type": "code",
   "execution_count": null,
   "metadata": {
    "colab": {},
    "colab_type": "code",
    "id": "MqIOLLNr49lH"
   },
   "outputs": [],
   "source": [
    "np.random.seed(1)\n",
    "input_ = np.random.randn(10, 4, 4, 3)\n",
    "W = np.random.randn(2, 2, 3, 8)\n",
    "b = np.random.randn(1, 1, 1, 8)\n",
    "hparameters = {\"pad\" : 1,\n",
    "               \"stride\": 1}\n",
    "\n",
    "output_ = conv_forward(input_, W, b, hparameters)\n",
    "print(np.mean(output_))"
   ]
  },
  {
   "cell_type": "markdown",
   "metadata": {},
   "source": [
    "- Run the below cell to define edge_detect filter, the filter values for edge detection has been define for you"
   ]
  },
  {
   "cell_type": "code",
   "execution_count": null,
   "metadata": {},
   "outputs": [],
   "source": [
    "edge_detect = np.array([[-1,-1,-1],[-1,8,-1],[-1,-1,-1]]).reshape((3,3,1,1))"
   ]
  },
  {
   "cell_type": "markdown",
   "metadata": {},
   "source": [
    "- Define a dictionary hparams with stride = 1 and pad = 0\n",
    "- initialize bias parameter b to zero of dimension (1,1,1,1) hint: use np.zeros()\n",
    "- Perform strided convolution using the method conv_forward() you defined previously.\n",
    "  - pass edge_detect filter, bais b and hparams as parameters to perform convolution on the data variable defined previously.\n",
    "  - assign the result to variable Z"
   ]
  },
  {
   "cell_type": "code",
   "execution_count": null,
   "metadata": {
    "colab": {},
    "colab_type": "code",
    "id": "ASvTKw7L9KXq"
   },
   "outputs": [],
   "source": [
    "###Start code\n",
    "hparams = \n",
    "b = \n",
    "Z = \n",
    "\n",
    "\n",
    "plt.clf()\n",
    "plt.imshow(Z[0,:,:,0], cmap='gray',vmin=0, vmax=1)\n",
    "plt.grid(False)\n",
    "print(\"dimension of image before convolution: \", data.shape)\n",
    "print(\"dimension of image after convolution: \", Z.shape)\n",
    "\n",
    "output2 = np.mean(Z[0,100:200,200:300,0])\n",
    "\n",
    "\n",
    "##below are the filters for vetical as well as horizontal edge detection, try these filters once you have completed this handson.\n",
    "##vertical_filter = np.array([[-1,2,-1],[-1,2,-1],[-1,2,-1]]).reshape(3,3,1,1)\n",
    "##horizontal_filter = np.array([[-1,-1,-1],[2,2,2],[-1,-1,-1]]).reshape((3,3,1,1))"
   ]
  },
  {
   "cell_type": "markdown",
   "metadata": {},
   "source": [
    "### Max pooling\n",
    "Define method max_pool to perform max pooling on the input data.  \n",
    "Parameters:  \n",
    "        - data: input data on which convolution is performed  \n",
    "        - hparams: dictionary defined by {\"f\": f, \"stride\": s} , f is the filter size and s              the number of strides\n",
    "returns:  \n",
    "       - output: output after pooling \n",
    "\n",
    "refer the code snippet provided in the course.  "
   ]
  },
  {
   "cell_type": "code",
   "execution_count": null,
   "metadata": {
    "colab": {
     "base_uri": "https://localhost:8080/",
     "height": 34
    },
    "colab_type": "code",
    "id": "fJhw7KyJBG6O",
    "outputId": "7fdc6012-12d5-4ba7-f055-e0b11b80d49d"
   },
   "outputs": [],
   "source": [
    "def max_pool(input, hparam):\n",
    "    ###start code\n",
    "    \n",
    "    \n",
    "    \n",
    "    \n",
    "    \n",
    "    \n",
    "    \n",
    "    \n",
    "    \n",
    "    \n",
    "    \n",
    "    ###End code\n",
    "    return output"
   ]
  },
  {
   "cell_type": "markdown",
   "metadata": {},
   "source": [
    "- Run the below cell to test the method you define above.  \n",
    "Expected output: **1.075**"
   ]
  },
  {
   "cell_type": "code",
   "execution_count": null,
   "metadata": {},
   "outputs": [],
   "source": [
    "pool_params = {\"stride\" : 2, \"f\" : 2}\n",
    "output_ = max_pool(input_, pool_params)\n",
    "print(np.mean(output_))"
   ]
  },
  {
   "cell_type": "markdown",
   "metadata": {},
   "source": [
    "- Define pooling parameters \"stride\" and filter size \"f\" as a dictionary named **hparams** with stride = 1 and f = 2\n",
    "- call the method max_pool with parameters Z (the convolved output) and hparams "
   ]
  },
  {
   "cell_type": "code",
   "execution_count": null,
   "metadata": {
    "colab": {},
    "colab_type": "code",
    "id": "4uXuxzeyCN_6"
   },
   "outputs": [],
   "source": [
    "###start code\n",
    "hparams = \n",
    "Z_pool = \n",
    "###End code\n",
    "\n",
    "print(\"dimension before pooling :\", Z.shape)\n",
    "print(\"dimension after pooling :\", Z_pool.shape)\n",
    "\n",
    "plt.imshow(Z_pool[0,:,:,0], cmap = \"gray\")\n",
    "\n",
    "with open(\"output.txt\", \"w+\") as file:\n",
    "    file.write(\"output1 = %f\" %output1)\n",
    "    file.write(\"\\noutput2 = %f\" %output2)"
   ]
  }
 ],
 "metadata": {
  "accelerator": "GPU",
  "colab": {
   "name": "Untitled8.ipynb",
   "provenance": [],
   "version": "0.3.2"
  },
  "kernelspec": {
   "display_name": "Python 3",
   "language": "python",
   "name": "python3"
  },
  "language_info": {
   "codemirror_mode": {
    "name": "ipython",
    "version": 3
   },
   "file_extension": ".py",
   "mimetype": "text/x-python",
   "name": "python",
   "nbconvert_exporter": "python",
   "pygments_lexer": "ipython3",
   "version": "3.7.6"
  }
 },
 "nbformat": 4,
 "nbformat_minor": 1
}
